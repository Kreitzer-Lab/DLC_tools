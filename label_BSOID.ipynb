{
 "cells": [
  {
   "cell_type": "markdown",
   "metadata": {},
   "source": [
    "# Test script to create a labeled BSOID clip"
   ]
  },
  {
   "cell_type": "markdown",
   "metadata": {},
   "source": [
    "### Must install moviepy, tkinter. \n",
    "### Also follow the following instructions if you get an error about imagemagick not found:\n",
    "- https://imagemagick.org/script/download.php#macosx"
   ]
  },
  {
   "cell_type": "markdown",
   "metadata": {},
   "source": [
    "### TODO: \n",
    "- fix location of text overlay\n"
   ]
  },
  {
   "cell_type": "markdown",
   "metadata": {},
   "source": [
    "### Import libraries:"
   ]
  },
  {
   "cell_type": "code",
   "execution_count": 1,
   "metadata": {},
   "outputs": [],
   "source": [
    "import tkinter as tk\n",
    "from tkinter import filedialog\n",
    "import csv\n",
    "import moviepy.editor as mpy"
   ]
  },
  {
   "cell_type": "markdown",
   "metadata": {},
   "source": [
    "### Define functions:"
   ]
  },
  {
   "cell_type": "code",
   "execution_count": 2,
   "metadata": {},
   "outputs": [],
   "source": [
    "# File loader:\n",
    "def load_file():\n",
    "    root = tk.Tk()\n",
    "    root.withdraw()\n",
    "    return filedialog.askopenfilename()\n",
    "\n",
    "# Label Loader:\n",
    "def import_BSOID_labels(filename):\n",
    "    with open(filename, newline='') as f:\n",
    "        reader = csv.reader(f)\n",
    "        labels = [label[0] for label in list(reader)]\n",
    "    return labels\n",
    "\n",
    "# Create text overlay:\n",
    "def create_text_overlay(frame_st,frame_ed,fps):\n",
    "    # create label list:\n",
    "    bSOID_file = load_file() \n",
    "    labels = import_BSOID_labels(bSOID_file)\n",
    "    txt_clip = []\n",
    "    for frame in range(frame_st,frame_ed+1):\n",
    "        txt_frame = mpy.TextClip(labels[frame],fontsize=30,color='white').set_duration(1/fps)\n",
    "        txt_clip.append(txt_frame)  \n",
    "    txt_clip = mpy.concatenate(txt_clip)\n",
    "    return txt_clip\n",
    "\n",
    "# create video file clip:\n",
    "def create_video_clip(frame_st,frame_ed,fps):\n",
    "    duration = (frame_ed/fps) - (frame_st/fps)\n",
    "    video_file = load_file()\n",
    "    vid_clip = mpy.VideoFileClip(video_file)\n",
    "    vid_clip = vid_clip.subclip(frame_st/fps,frame_ed/fps).resize(height=360)\n",
    "    return vid_clip\n",
    "\n",
    "# Overlay labels onto video:\n",
    "def overlay_labels(output_file,txt_clip,vid_clip):\n",
    "    video = mpy.CompositeVideoClip([vid_clip,txt_clip])\n",
    "    video.write_videofile(output_file)"
   ]
  },
  {
   "cell_type": "markdown",
   "metadata": {},
   "source": [
    "### Create test video:\n",
    "    "
   ]
  },
  {
   "cell_type": "code",
   "execution_count": 4,
   "metadata": {},
   "outputs": [
    {
     "name": "stderr",
     "output_type": "stream",
     "text": [
      "t:   2%|▏         | 11/501 [00:00<00:04, 105.78it/s, now=None]"
     ]
    },
    {
     "name": "stdout",
     "output_type": "stream",
     "text": [
      "Moviepy - Building video test.mp4.\n",
      "Moviepy - Writing video test.mp4\n",
      "\n"
     ]
    },
    {
     "name": "stderr",
     "output_type": "stream",
     "text": [
      "                                                               "
     ]
    },
    {
     "name": "stdout",
     "output_type": "stream",
     "text": [
      "Moviepy - Done !\n",
      "Moviepy - video ready test.mp4\n"
     ]
    },
    {
     "name": "stderr",
     "output_type": "stream",
     "text": [
      "\r"
     ]
    }
   ],
   "source": [
    "fps = 70\n",
    "frame_st = 0\n",
    "frame_ed = 500\n",
    "\n",
    "txt_clip = create_text_overlay(frame_st,frame_ed,fps)\n",
    "vid_clip = create_video_clip(frame_st,frame_ed,fps)\n",
    "overlay_labels('test.mp4',txt_clip,vid_clip)\n"
   ]
  },
  {
   "cell_type": "code",
   "execution_count": null,
   "metadata": {},
   "outputs": [],
   "source": []
  }
 ],
 "metadata": {
  "kernelspec": {
   "display_name": "Python 3",
   "language": "python",
   "name": "python3"
  },
  "language_info": {
   "codemirror_mode": {
    "name": "ipython",
    "version": 3
   },
   "file_extension": ".py",
   "mimetype": "text/x-python",
   "name": "python",
   "nbconvert_exporter": "python",
   "pygments_lexer": "ipython3",
   "version": "3.7.6"
  }
 },
 "nbformat": 4,
 "nbformat_minor": 4
}
